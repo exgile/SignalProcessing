{
  "nbformat": 4,
  "nbformat_minor": 0,
  "metadata": {
    "colab": {
      "name": "testing.ipynb",
      "version": "0.3.2",
      "provenance": [],
      "toc_visible": true,
      "include_colab_link": true
    },
    "kernelspec": {
      "name": "python3",
      "display_name": "Python 3"
    }
  },
  "cells": [
    {
      "cell_type": "markdown",
      "metadata": {
        "id": "view-in-github",
        "colab_type": "text"
      },
      "source": [
        "<a href=\"https://colab.research.google.com/github/fboldt/SignalProcessing/blob/master/cwru_segmentation.ipynb\" target=\"_parent\"><img src=\"https://colab.research.google.com/assets/colab-badge.svg\" alt=\"Open In Colab\"/></a>"
      ]
    },
    {
      "cell_type": "markdown",
      "metadata": {
        "colab_type": "text",
        "id": "O_WyaUYJoAAB"
      },
      "source": [
        "# CWRU files.\n"
      ]
    },
    {
      "cell_type": "markdown",
      "metadata": {
        "id": "BxnouJISoB7q",
        "colab_type": "text"
      },
      "source": [
        "Associate each Matlab file name to a bearing condition in a Python dictionary. The dictionary keys identify the conditions.\n",
        "\n",
        "There are only four normal conditions, with loads of 0, 1, 2 and 3 hp. All conditions end with an underscore character followed by an algarism representing the load applied during the acquisitions. The remaining conditions follow the pattern:\n",
        "\n",
        "First two characters represent the bearing location, i.e. drive end (DE) and fan end (FE). The following two characters represent the failure location in the bearing, i.e. ball (BA), Inner Race (IR) and Outer Race (OR). The next three algarisms indicate the severity of the failure, where 007 stands for 0.007 inches and 0021 for 0.021 inches. For Outer Race failures, the character @ is followed by a number that indicates different load zones.\n",
        "\n"
      ]
    },
    {
      "cell_type": "code",
      "metadata": {
        "id": "ZVVoHvQEn8hi",
        "colab_type": "code",
        "colab": {}
      },
      "source": [
        "debug = False\n",
        "# size of each segment\n",
        "sample_size = 32768\n",
        "if not debug:\n",
        "  sample_size = 512\n",
        "acquisitions = {}\n",
        "# Normal\n",
        "acquisitions[\"Normal_0\"] = \"97.mat\"\n",
        "acquisitions[\"Normal_1\"] = \"98.mat\"\n",
        "acquisitions[\"Normal_2\"] = \"99.mat\"\n",
        "acquisitions[\"Normal_3\"] = \"100.mat\"\n",
        "# DE Inner Race 0.007 inches\n",
        "acquisitions[\"DEIR.007_0\"] = \"105.mat\"\n",
        "acquisitions[\"DEIR.007_1\"] = \"106.mat\"\n",
        "acquisitions[\"DEIR.007_2\"] = \"107.mat\"\n",
        "acquisitions[\"DEIR.007_3\"] = \"108.mat\"\n",
        "# DE Ball 0.007 inches\n",
        "acquisitions[\"DEB.007_0\"] = \"118.mat\"\n",
        "acquisitions[\"DEB.007_1\"] = \"119.mat\"\n",
        "acquisitions[\"DEB.007_2\"] = \"120.mat\"\n",
        "acquisitions[\"DEB.007_3\"] = \"121.mat\"\n",
        "# DE Outer race 0.007 inches centered @6:00\n",
        "acquisitions[\"DEOR.007@6_0\"] = \"130.mat\"\n",
        "acquisitions[\"DEOR.007@6_1\"] = \"131.mat\"\n",
        "acquisitions[\"DEOR.007@6_2\"] = \"132.mat\"\n",
        "acquisitions[\"DEOR.007@6_3\"] = \"133.mat\"\n",
        "# DE Outer race 0.007 inches centered @3:00\n",
        "acquisitions[\"DEOR.007@3_0\"] = \"144.mat\"\n",
        "acquisitions[\"DEOR.007@3_1\"] = \"145.mat\"\n",
        "acquisitions[\"DEOR.007@3_2\"] = \"146.mat\"\n",
        "acquisitions[\"DEOR.007@3_3\"] = \"147.mat\"\n",
        "# DE Outer race 0.007 inches centered @12:00\n",
        "acquisitions[\"DEOR.007@12_0\"] = \"156.mat\"\n",
        "acquisitions[\"DEOR.007@12_1\"] = \"158.mat\"\n",
        "acquisitions[\"DEOR.007@12_2\"] = \"159.mat\"\n",
        "acquisitions[\"DEOR.007@12_3\"] = \"160.mat\"\n",
        "# DE Inner Race 0.014 inches\n",
        "acquisitions[\"DEIR.014_0\"] = \"169.mat\"\n",
        "acquisitions[\"DEIR.014_1\"] = \"170.mat\"\n",
        "acquisitions[\"DEIR.014_2\"] = \"171.mat\"\n",
        "acquisitions[\"DEIR.014_3\"] = \"172.mat\"\n",
        "# DE Ball 0.014 inches\n",
        "acquisitions[\"DEB.014_0\"] = \"185.mat\"\n",
        "acquisitions[\"DEB.014_1\"] = \"186.mat\"\n",
        "acquisitions[\"DEB.014_2\"] = \"187.mat\"\n",
        "acquisitions[\"DEB.014_3\"] = \"188.mat\"\n",
        "# DE Outer race 0.014 inches centered @6:00\n",
        "acquisitions[\"DEOR.014@6_0\"] = \"197.mat\"\n",
        "acquisitions[\"DEOR.014@6_1\"] = \"198.mat\"\n",
        "acquisitions[\"DEOR.014@6_2\"] = \"199.mat\"\n",
        "acquisitions[\"DEOR.014@6_3\"] = \"200.mat\"\n",
        "# DE Ball 0.021 inches\n",
        "acquisitions[\"DEB.021_0\"] = \"222.mat\"\n",
        "acquisitions[\"DEB.021_1\"] = \"223.mat\"\n",
        "acquisitions[\"DEB.021_2\"] = \"224.mat\"\n",
        "acquisitions[\"DEB.021_3\"] = \"225.mat\"\n",
        "# FE Inner Race 0.021 inches\n",
        "acquisitions[\"FEIR.021_0\"] = \"270.mat\"\n",
        "acquisitions[\"FEIR.021_1\"] = \"271.mat\"\n",
        "acquisitions[\"FEIR.021_2\"] = \"272.mat\"\n",
        "acquisitions[\"FEIR.021_3\"] = \"273.mat\"\n",
        "# FE Inner Race 0.014 inches\n",
        "acquisitions[\"FEIR.014_0\"] = \"274.mat\"\n",
        "acquisitions[\"FEIR.014_1\"] = \"275.mat\"\n",
        "acquisitions[\"FEIR.014_2\"] = \"276.mat\"\n",
        "acquisitions[\"FEIR.014_3\"] = \"277.mat\"\n",
        "# FE Ball 0.007 inches\n",
        "acquisitions[\"FEB.007_0\"] = \"282.mat\"\n",
        "acquisitions[\"FEB.007_1\"] = \"283.mat\"\n",
        "acquisitions[\"FEB.007_2\"] = \"284.mat\"\n",
        "acquisitions[\"FEB.007_3\"] = \"285.mat\"\n",
        "# DE Inner Race 0.021 inches\n",
        "acquisitions[\"DEIR.021_0\"] = \"209.mat\"\n",
        "acquisitions[\"DEIR.021_1\"] = \"210.mat\"\n",
        "acquisitions[\"DEIR.021_2\"] = \"211.mat\"\n",
        "acquisitions[\"DEIR.021_3\"] = \"212.mat\"\n",
        "# DE Outer race 0.021 inches centered @6:00\n",
        "acquisitions[\"DEOR.021@6_0\"] = \"234.mat\"\n",
        "acquisitions[\"DEOR.021@6_1\"] = \"235.mat\"\n",
        "acquisitions[\"DEOR.021@6_2\"] = \"236.mat\"\n",
        "acquisitions[\"DEOR.021@6_3\"] = \"237.mat\"\n",
        "# DE Outer race 0.021 inches centered @3:00\n",
        "acquisitions[\"DEOR.021@3_0\"] = \"246.mat\"\n",
        "acquisitions[\"DEOR.021@3_1\"] = \"247.mat\"\n",
        "acquisitions[\"DEOR.021@3_2\"] = \"248.mat\"\n",
        "acquisitions[\"DEOR.021@3_3\"] = \"249.mat\"\n",
        "# DE Outer race 0.021 inches centered @12:00\n",
        "acquisitions[\"DEOR.021@12_0\"] = \"258.mat\"\n",
        "acquisitions[\"DEOR.021@12_1\"] = \"259.mat\"\n",
        "acquisitions[\"DEOR.021@12_2\"] = \"260.mat\"\n",
        "acquisitions[\"DEOR.021@12_3\"] = \"261.mat\"\n",
        "# FE Inner Race 0.007 inches\n",
        "acquisitions[\"FEIR.007_0\"] = \"278.mat\"\n",
        "acquisitions[\"FEIR.007_1\"] = \"279.mat\"\n",
        "acquisitions[\"FEIR.007_2\"] = \"280.mat\"\n",
        "acquisitions[\"FEIR.007_3\"] = \"281.mat\"\n",
        "# FE Ball 0.014 inches\n",
        "acquisitions[\"FEB.014_0\"] = \"286.mat\"\n",
        "acquisitions[\"FEB.014_1\"] = \"287.mat\"\n",
        "acquisitions[\"FEB.014_2\"] = \"288.mat\"\n",
        "acquisitions[\"FEB.014_3\"] = \"289.mat\"\n",
        "# FE Ball 0.021 inches\n",
        "acquisitions[\"FEB.021_0\"] = \"290.mat\"\n",
        "acquisitions[\"FEB.021_1\"] = \"291.mat\"\n",
        "acquisitions[\"FEB.021_2\"] = \"292.mat\"\n",
        "acquisitions[\"FEB.021_3\"] = \"293.mat\"\n",
        "# FE Outer race 0.007 inches centered @6:00\n",
        "acquisitions[\"FEOR.007@6_0\"] = \"294.mat\"\n",
        "acquisitions[\"FEOR.007@6_1\"] = \"295.mat\"\n",
        "acquisitions[\"FEOR.007@6_2\"] = \"296.mat\"\n",
        "acquisitions[\"FEOR.007@6_3\"] = \"297.mat\"\n",
        "# FE Outer race 0.007 inches centered @3:00\n",
        "acquisitions[\"FEOR.007@3_0\"] = \"298.mat\"\n",
        "acquisitions[\"FEOR.007@3_1\"] = \"299.mat\"\n",
        "acquisitions[\"FEOR.007@3_2\"] = \"300.mat\"\n",
        "acquisitions[\"FEOR.007@3_3\"] = \"301.mat\"\n",
        "# FE Outer race 0.007 inches centered @12:00\n",
        "acquisitions[\"FEOR.007@12_0\"] = \"302.mat\"\n",
        "acquisitions[\"FEOR.007@12_1\"] = \"305.mat\"\n",
        "acquisitions[\"FEOR.007@12_2\"] = \"306.mat\"\n",
        "acquisitions[\"FEOR.007@12_3\"] = \"307.mat\"\n",
        "# FE Outer race 0.014 inches centered @3:00\n",
        "acquisitions[\"FEOR.014@3_0\"] = \"310.mat\"\n",
        "acquisitions[\"FEOR.014@3_1\"] = \"309.mat\"\n",
        "acquisitions[\"FEOR.014@3_2\"] = \"311.mat\"\n",
        "acquisitions[\"FEOR.014@3_3\"] = \"312.mat\"\n",
        "# FE Outer race 0.014 inches centered @6:00\n",
        "acquisitions[\"FEOR.014@6_0\"] = \"313.mat\"\n",
        "# FE Outer race 0.021 inches centered @6:00\n",
        "acquisitions[\"FEOR.021@6_0\"] = \"315.mat\"\n",
        "# FE Outer race 0.021 inches centered @3:00\n",
        "acquisitions[\"FEOR.021@3_1\"] = \"316.mat\"\n",
        "acquisitions[\"FEOR.021@3_2\"] = \"317.mat\"\n",
        "acquisitions[\"FEOR.021@3_3\"] = \"318.mat\"\n",
        "# DE Inner Race 0.028 inches\n",
        "acquisitions[\"DEIR.028_0\"] = \"3001.mat\"\n",
        "acquisitions[\"DEIR.028_1\"] = \"3002.mat\"\n",
        "acquisitions[\"DEIR.028_2\"] = \"3003.mat\"\n",
        "acquisitions[\"DEIR.028_3\"] = \"3004.mat\"\n",
        "# DE Ball 0.028 inches\n",
        "acquisitions[\"DEB.028_0\"] = \"3005.mat\"\n",
        "acquisitions[\"DEB.028_1\"] = \"3006.mat\"\n",
        "acquisitions[\"DEB.028_2\"] = \"3007.mat\"\n",
        "acquisitions[\"DEB.028_3\"] = \"3008.mat\""
      ],
      "execution_count": 0,
      "outputs": []
    },
    {
      "cell_type": "markdown",
      "metadata": {
        "id": "hQu5HBLioPIu",
        "colab_type": "text"
      },
      "source": [
        "# Functions definitions\n"
      ]
    },
    {
      "cell_type": "code",
      "metadata": {
        "id": "YcKzJQ-XoSCg",
        "colab_type": "code",
        "colab": {}
      },
      "source": [
        "def get_labels_dict(acquisitions, separator='_', detectPosition=True):\n",
        "  \"\"\"Generate a dictionary linking the labels with values to keep consistence.\"\"\"\n",
        "  labels_dict = {}\n",
        "  value = 0\n",
        "  for key in acquisitions.keys():\n",
        "    key = key.split('_')[0]\n",
        "    key = key.split(separator)\n",
        "    if key[0] == \"Normal\" or detectPosition:\n",
        "      label = key[0]\n",
        "    else:\n",
        "      label = key[0][2:]\n",
        "    if not label in labels_dict:\n",
        "      labels_dict[label] = value\n",
        "      value += 1\n",
        "  return labels_dict"
      ],
      "execution_count": 0,
      "outputs": []
    },
    {
      "cell_type": "markdown",
      "metadata": {
        "id": "bL85KQ_noXAV",
        "colab_type": "text"
      },
      "source": [
        "Convert Matlab file into tensors.\n"
      ]
    },
    {
      "cell_type": "code",
      "metadata": {
        "id": "i52OZlbIodym",
        "colab_type": "code",
        "colab": {}
      },
      "source": [
        "import scipy.io\n",
        "import numpy as np\n",
        "def acquisition2tensor(file_name, position=None, sample_size=sample_size):\n",
        "  \"\"\"\n",
        "  Convert Matlab file into tensors.\n",
        "  The file is divided in segments of sample_size values.\n",
        "  \"\"\"\n",
        "  print(file_name, end=' ')\n",
        "  matlab_file = scipy.io.loadmat(file_name)\n",
        "  DE_samples = []\n",
        "  FE_samples = []\n",
        "  \n",
        "  #signal segmentation\n",
        "  signal_begin = 0\n",
        "  if position == None:\n",
        "    DE_time = [key for key in matlab_file if key.endswith(\"DE_time\")][0] #Find the DRIVE END acquisition key name\n",
        "    FE_time = [key for key in matlab_file if key.endswith(\"FE_time\")][0] #Find the FAN END acquisition key name\n",
        "    acquisition_size = max(len(matlab_file[DE_time]),len(matlab_file[FE_time]))\n",
        "    while signal_begin + sample_size < acquisition_size:\n",
        "      DE_samples.append([item for sublist in matlab_file[DE_time][signal_begin:signal_begin+sample_size] for item in sublist])\n",
        "      FE_samples.append([item for sublist in matlab_file[FE_time][signal_begin:signal_begin+sample_size] for item in sublist])\n",
        "      signal_begin += sample_size\n",
        "    sample_tensor = np.stack([DE_samples,FE_samples],axis=2).astype('float32')\n",
        "  elif position == 'DE':\n",
        "    DE_time = [key for key in matlab_file if key.endswith(\"DE_time\")][0] #Find the DRIVE END acquisition key name\n",
        "    acquisition_size = len(matlab_file[DE_time])\n",
        "    while signal_begin + sample_size < acquisition_size:\n",
        "      DE_samples.append([item for sublist in matlab_file[DE_time][signal_begin:signal_begin+sample_size] for item in sublist])\n",
        "      signal_begin += sample_size\n",
        "    sample_tensor = np.stack([DE_samples],axis=2).astype('float32')\n",
        "  elif position == 'FE':\n",
        "    FE_time = [key for key in matlab_file if key.endswith(\"FE_time\")][0] #Find the FAN END acquisition key name\n",
        "    acquisition_size = len(matlab_file[FE_time])\n",
        "    while signal_begin + sample_size < acquisition_size:\n",
        "      FE_samples.append([item for sublist in matlab_file[FE_time][signal_begin:signal_begin+sample_size] for item in sublist])\n",
        "      signal_begin += sample_size\n",
        "    sample_tensor = np.stack([FE_samples],axis=2).astype('float32')\n",
        "  return sample_tensor"
      ],
      "execution_count": 0,
      "outputs": []
    },
    {
      "cell_type": "markdown",
      "metadata": {
        "id": "GlnwDCj9olhH",
        "colab_type": "text"
      },
      "source": [
        "Extract datasets from acquisitions.\n"
      ]
    },
    {
      "cell_type": "code",
      "metadata": {
        "id": "-xJlTxjTomWi",
        "colab_type": "code",
        "colab": {}
      },
      "source": [
        "def concatenate_datasets(xd,yd,xo,yo):\n",
        "  \"\"\"\n",
        "  xd: destination patterns tensor\n",
        "  yd: destination labels tensor\n",
        "  xo: origin patterns tensor to be concateneted \n",
        "  yo: origin labels tensor to be concateneted \n",
        "  \"\"\"\n",
        "  if xd is None or yd is None:\n",
        "    xd = xo\n",
        "    yd = yo\n",
        "  else:\n",
        "    xd = np.concatenate((xd,xo))\n",
        "    yd = np.concatenate((yd,yo))\n",
        "  return xd,yd\n",
        "\n",
        "import urllib.request\n",
        "import os.path\n",
        "\n",
        "def acquisitions_from_substr(substr, acquisitions, labels_dict, position=None,\n",
        "                             url=\"http://csegroups.case.edu/sites/default/files/bearingdatacenter/files/Datafiles/\"):\n",
        "  \"\"\"\n",
        "  Extract samples from all files with some load.\n",
        "  \"\"\"\n",
        "  samples = None\n",
        "  labels = None\n",
        "  for key in acquisitions:\n",
        "    if str(substr) in key:\n",
        "      file_name = acquisitions[key]\n",
        "      if not os.path.exists(file_name):\n",
        "        urllib.request.urlretrieve(url+file_name, file_name)\n",
        "      if substr[:2] == key[:2] and position == None:\n",
        "        acquisition_samples = acquisition2tensor(file_name)\n",
        "      elif position =='DE':\n",
        "        acquisition_samples = acquisition2tensor(file_name, 'DE')\n",
        "      elif position =='FE':\n",
        "        acquisition_samples = acquisition2tensor(file_name, 'FE')\n",
        "      else:\n",
        "        acquisition_samples = acquisition2tensor(file_name, key[:2])\n",
        "      for label in labels_dict.keys():\n",
        "        if label in key:\n",
        "          break\n",
        "      acquisition_labels = np.ones(acquisition_samples.shape[0])*labels_dict[label]\n",
        "      samples,labels = concatenate_datasets(samples,labels,acquisition_samples,acquisition_labels)\n",
        "  print(substr)\n",
        "  return samples,labels"
      ],
      "execution_count": 0,
      "outputs": []
    },
    {
      "cell_type": "markdown",
      "metadata": {
        "id": "h1bmT_Proq-y",
        "colab_type": "text"
      },
      "source": [
        "# Downloading and Matlab files\n"
      ]
    },
    {
      "cell_type": "markdown",
      "metadata": {
        "id": "LOwEbwZPowH2",
        "colab_type": "text"
      },
      "source": [
        "Extract samples.\n"
      ]
    },
    {
      "cell_type": "code",
      "metadata": {
        "id": "iZG8Cuylorth",
        "colab_type": "code",
        "outputId": "c0e865c2-11eb-425f-d5bb-57465caa1b6c",
        "colab": {
          "base_uri": "https://localhost:8080/",
          "height": 258
        }
      },
      "source": [
        "labels_dict = get_labels_dict(acquisitions, '.', False)\n",
        "print(labels_dict)\n",
        "def normal_indenpendent_position_acquisitions(load,acquisitions,labels_dict):\n",
        "  x,y = None,None\n",
        "  for position in ['DE','FE']:\n",
        "    xn,yn = acquisitions_from_substr('Normal_'+str(load),acquisitions,labels_dict,position)\n",
        "    x,y = concatenate_datasets(x,y,xn,yn)\n",
        "  return x,y\n",
        "\n",
        "xn_0,yn_0 = normal_indenpendent_position_acquisitions(0,acquisitions,labels_dict)\n",
        "xn_1,yn_1 = normal_indenpendent_position_acquisitions(1,acquisitions,labels_dict)\n",
        "xn_2,yn_2 = normal_indenpendent_position_acquisitions(2,acquisitions,labels_dict)\n",
        "xn_3,yn_3 = normal_indenpendent_position_acquisitions(3,acquisitions,labels_dict)\n",
        "\n",
        "x007,y007 = acquisitions_from_substr('007',acquisitions,labels_dict)\n",
        "x014,y014 = acquisitions_from_substr('014',acquisitions,labels_dict)\n",
        "x021,y021 = acquisitions_from_substr('021',acquisitions,labels_dict)\n",
        "x028,y028 = acquisitions_from_substr('028',acquisitions,labels_dict)\n",
        "\n",
        "severities = ['007','014','021','028']"
      ],
      "execution_count": 0,
      "outputs": [
        {
          "output_type": "stream",
          "text": [
            "{'Normal': 0, 'IR': 1, 'B': 2, 'OR': 3}\n",
            "97.mat Normal_0\n",
            "97.mat Normal_0\n",
            "98.mat Normal_1\n",
            "98.mat Normal_1\n",
            "99.mat Normal_2\n",
            "99.mat Normal_2\n",
            "100.mat Normal_3\n",
            "100.mat Normal_3\n",
            "105.mat 106.mat 107.mat 108.mat 118.mat 119.mat 120.mat 121.mat 130.mat 131.mat 132.mat 133.mat 144.mat 145.mat 146.mat 147.mat 156.mat 158.mat 159.mat 160.mat 282.mat 283.mat 284.mat 285.mat 278.mat 279.mat 280.mat 281.mat 294.mat 295.mat 296.mat 297.mat 298.mat 299.mat 300.mat 301.mat 302.mat 305.mat 306.mat 307.mat 007\n",
            "169.mat 170.mat 171.mat 172.mat 185.mat 186.mat 187.mat 188.mat 197.mat 198.mat 199.mat 200.mat 274.mat 275.mat 276.mat 277.mat 286.mat 287.mat 288.mat 289.mat 310.mat 309.mat 311.mat 312.mat 313.mat 014\n",
            "222.mat 223.mat 224.mat 225.mat 270.mat 271.mat 272.mat 273.mat 209.mat 210.mat 211.mat 212.mat 234.mat 235.mat 236.mat 237.mat 246.mat 247.mat 248.mat 249.mat 258.mat 259.mat 260.mat 261.mat 290.mat 291.mat 292.mat 293.mat 315.mat 316.mat 317.mat 318.mat 021\n",
            "3001.mat 3002.mat 3003.mat 3004.mat 3005.mat 3006.mat 3007.mat 3008.mat 028\n"
          ],
          "name": "stdout"
        }
      ]
    },
    {
      "cell_type": "markdown",
      "metadata": {
        "id": "v4iA0dt9pXyK",
        "colab_type": "text"
      },
      "source": [
        "Count number of samples.\n",
        "\n"
      ]
    },
    {
      "cell_type": "code",
      "metadata": {
        "id": "CEHJBo9bpZGQ",
        "colab_type": "code",
        "outputId": "c60ce972-651e-4a96-f792-caec2239294a",
        "colab": {
          "base_uri": "https://localhost:8080/",
          "height": 187
        }
      },
      "source": [
        "print(\"Label\", end='\\t')\n",
        "for s in severities:\n",
        "  print(s, end='\\t')\n",
        "print(\"total\")\n",
        "mat = np.zeros((4,4))\n",
        "i = 0\n",
        "for label,value in labels_dict.items():\n",
        "  print(label, end='\\t')\n",
        "  tsamples = 0\n",
        "  if label == 'Normal':\n",
        "    print(4*'\\t'+'...')\n",
        "    for load in range(4):\n",
        "      print(' '+str((load+len(severities)+1)%4)+(load)*'\\t', end='\\t')\n",
        "      mat[i][load] = list(eval('yn_'+str((load+len(severities)+1)%4))).count(value)\n",
        "      print(int(mat[i][load]))\n",
        "  else:\n",
        "    for j,severity in enumerate(['007','014','021','028']):\n",
        "      tmp = eval('y'+str(severity))\n",
        "      if tmp is not None:\n",
        "        nsamples = list(tmp).count(value)\n",
        "        mat[i][j] = nsamples\n",
        "        print(nsamples, end='\\t')\n",
        "        tsamples += nsamples\n",
        "      else:\n",
        "        print('0', end='\\t')\n",
        "    print(tsamples)\n",
        "  i+=1\n",
        "total = np.sum(mat,axis=0)\n",
        "print(\"Total:\", end='\\t')\n",
        "for i in range(len(total)):\n",
        "  print(int(total[i]), end='\\t')\n",
        "print(int(np.sum(total)))"
      ],
      "execution_count": 0,
      "outputs": [
        {
          "output_type": "stream",
          "text": [
            "Label\t007\t014\t021\t028\ttotal\n",
            "Normal\t\t\t\t\t...\n",
            " 1\t1890\n",
            " 2\t\t1890\n",
            " 3\t\t\t1896\n",
            " 0\t\t\t\t952\n",
            "IR\t1900\t1895\t1894\t946\t6635\n",
            "B\t1894\t1900\t1897\t944\t6635\n",
            "OR\t5694\t2131\t3798\t0\t11623\n",
            "Total:\t11378\t7816\t9485\t2842\t31521\n"
          ],
          "name": "stdout"
        }
      ]
    },
    {
      "cell_type": "code",
      "metadata": {
        "id": "lAbAC7iwzACR",
        "colab_type": "code",
        "outputId": "adda7b80-e627-4ec2-c184-78aa1af1024c",
        "colab": {
          "base_uri": "https://localhost:8080/",
          "height": 34
        }
      },
      "source": [
        "a = 1\n",
        "print(a == y007[0])"
      ],
      "execution_count": 0,
      "outputs": [
        {
          "output_type": "stream",
          "text": [
            "True\n"
          ],
          "name": "stdout"
        }
      ]
    },
    {
      "cell_type": "markdown",
      "metadata": {
        "id": "BQutiWuupevT",
        "colab_type": "text"
      },
      "source": [
        "#Gerando CSSV Files\n"
      ]
    },
    {
      "cell_type": "code",
      "metadata": {
        "id": "P2p5W3ZvU1MW",
        "colab_type": "code",
        "colab": {}
      },
      "source": [
        "import tensorflow as tf\n",
        "import os\n",
        "import numpy as np\n",
        "\n",
        "tf.gfile.MkDir('cwru')\n",
        "\n",
        "def colecting_samples(severity, rotulo_key, rotulo_value, samples, labels, outname):\n",
        "  \n",
        "  amostra = list()\n",
        "  cont = 0\n",
        "  for a in labels:\n",
        "    if a == rotulo_value:\n",
        "      amostra = samples[cont].copy()\n",
        "      amostra_name = outname+'/'+severity+'_'+rotulo_key+'_'\n",
        "      if cont < 10:\n",
        "        amostra_name = amostra_name+'000'+str(cont)\n",
        "      elif cont < 100:\n",
        "        amostra_name = amostra_name+'00'+str(cont)\n",
        "      elif cont < 1000:\n",
        "        amostra_name = amostra_name+'0'+str(cont)\n",
        "      else:\n",
        "        amostra_name = amostra_name+str(cont)\n",
        "      np.savetxt(amostra_name,amostra,delimiter=',')\n",
        "      cont = cont + 1\n",
        "\n",
        "def dataFrame_to_CSV(severity, labels_dict, samples_com_def, samples_sem_def, labels):\n",
        "  \n",
        "  outsev = 'cwru/'+severity\n",
        "  if not os.path.exists(outsev):\n",
        "    tf.gfile.MkDir(outsev)\n",
        "  for rotulo, valor in labels_dict.items():\n",
        "    outfault = outsev+'/'+rotulo\n",
        "    if not os.path.exists(outfault):\n",
        "      tf.gfile.MkDir(outfault)\n",
        "    if rotulo == 0:\n",
        "      colecting_samples(severity,rotulo,float(valor),samples_sem_def,labels,outfault)\n",
        "    else:\n",
        "      colecting_samples(severity,rotulo,float(valor),samples_com_def,labels,outfault)\n",
        "\n",
        "    "
      ],
      "execution_count": 0,
      "outputs": []
    },
    {
      "cell_type": "code",
      "metadata": {
        "id": "ZAT4AJoGZJ7k",
        "colab_type": "code",
        "colab": {}
      },
      "source": [
        "dataFrame_to_CSV('007',labels_dict,x007,xn_1,y007)\n",
        "dataFrame_to_CSV('014',labels_dict,x014,xn_2,y014)\n",
        "dataFrame_to_CSV('021',labels_dict,x021,xn_3,y021)\n",
        "dataFrame_to_CSV('028',labels_dict,x028,xn_0,y028)"
      ],
      "execution_count": 0,
      "outputs": []
    },
    {
      "cell_type": "code",
      "metadata": {
        "id": "aNQ5Wfs4X4On",
        "colab_type": "code",
        "outputId": "84281e2f-0ea1-4d96-d81c-536130a74650",
        "colab": {
          "base_uri": "https://localhost:8080/",
          "height": 34
        }
      },
      "source": [
        "import shutil\n",
        "\n",
        "output_filename = 'arqzipado'\n",
        "shutil.make_archive(output_filename, 'zip', 'cwru')"
      ],
      "execution_count": 0,
      "outputs": [
        {
          "output_type": "execute_result",
          "data": {
            "text/plain": [
              "'/content/arqzipado.zip'"
            ]
          },
          "metadata": {
            "tags": []
          },
          "execution_count": 28
        }
      ]
    },
    {
      "cell_type": "code",
      "metadata": {
        "id": "JRMbXp_abke8",
        "colab_type": "code",
        "outputId": "ca1f33e7-98c1-4058-e2cb-2d5d1c6e4afb",
        "colab": {
          "resources": {
            "http://localhost:19776/content/arqzipado.zip": {
              "data": "CjwhRE9DVFlQRSBodG1sPgo8aHRtbCBsYW5nPWVuPgogIDxtZXRhIGNoYXJzZXQ9dXRmLTg+CiAgPG1ldGEgbmFtZT12aWV3cG9ydCBjb250ZW50PSJpbml0aWFsLXNjYWxlPTEsIG1pbmltdW0tc2NhbGU9MSwgd2lkdGg9ZGV2aWNlLXdpZHRoIj4KICA8dGl0bGU+RXJyb3IgNTAwIChJbnRlcm5hbCBTZXJ2ZXIgRXJyb3IpISExPC90aXRsZT4KICA8c3R5bGU+CiAgICAqe21hcmdpbjowO3BhZGRpbmc6MH1odG1sLGNvZGV7Zm9udDoxNXB4LzIycHggYXJpYWwsc2Fucy1zZXJpZn1odG1se2JhY2tncm91bmQ6I2ZmZjtjb2xvcjojMjIyO3BhZGRpbmc6MTVweH1ib2R5e21hcmdpbjo3JSBhdXRvIDA7bWF4LXdpZHRoOjM5MHB4O21pbi1oZWlnaHQ6MTgwcHg7cGFkZGluZzozMHB4IDAgMTVweH0qID4gYm9keXtiYWNrZ3JvdW5kOnVybCgvL3d3dy5nb29nbGUuY29tL2ltYWdlcy9lcnJvcnMvcm9ib3QucG5nKSAxMDAlIDVweCBuby1yZXBlYXQ7cGFkZGluZy1yaWdodDoyMDVweH1we21hcmdpbjoxMXB4IDAgMjJweDtvdmVyZmxvdzpoaWRkZW59aW5ze2NvbG9yOiM3Nzc7dGV4dC1kZWNvcmF0aW9uOm5vbmV9YSBpbWd7Ym9yZGVyOjB9QG1lZGlhIHNjcmVlbiBhbmQgKG1heC13aWR0aDo3NzJweCl7Ym9keXtiYWNrZ3JvdW5kOm5vbmU7bWFyZ2luLXRvcDowO21heC13aWR0aDpub25lO3BhZGRpbmctcmlnaHQ6MH19I2xvZ297YmFja2dyb3VuZDp1cmwoLy93d3cuZ29vZ2xlLmNvbS9pbWFnZXMvbG9nb3MvZXJyb3JwYWdlL2Vycm9yX2xvZ28tMTUweDU0LnBuZykgbm8tcmVwZWF0O21hcmdpbi1sZWZ0Oi01cHh9QG1lZGlhIG9ubHkgc2NyZWVuIGFuZCAobWluLXJlc29sdXRpb246MTkyZHBpKXsjbG9nb3tiYWNrZ3JvdW5kOnVybCgvL3d3dy5nb29nbGUuY29tL2ltYWdlcy9sb2dvcy9lcnJvcnBhZ2UvZXJyb3JfbG9nby0xNTB4NTQtMngucG5nKSBuby1yZXBlYXQgMCUgMCUvMTAwJSAxMDAlOy1tb3otYm9yZGVyLWltYWdlOnVybCgvL3d3dy5nb29nbGUuY29tL2ltYWdlcy9sb2dvcy9lcnJvcnBhZ2UvZXJyb3JfbG9nby0xNTB4NTQtMngucG5nKSAwfX1AbWVkaWEgb25seSBzY3JlZW4gYW5kICgtd2Via2l0LW1pbi1kZXZpY2UtcGl4ZWwtcmF0aW86Mil7I2xvZ297YmFja2dyb3VuZDp1cmwoLy93d3cuZ29vZ2xlLmNvbS9pbWFnZXMvbG9nb3MvZXJyb3JwYWdlL2Vycm9yX2xvZ28tMTUweDU0LTJ4LnBuZykgbm8tcmVwZWF0Oy13ZWJraXQtYmFja2dyb3VuZC1zaXplOjEwMCUgMTAwJX19I2xvZ297ZGlzcGxheTppbmxpbmUtYmxvY2s7aGVpZ2h0OjU0cHg7d2lkdGg6MTUwcHh9CiAgPC9zdHlsZT4KICA8YSBocmVmPS8vd3d3Lmdvb2dsZS5jb20vPjxzcGFuIGlkPWxvZ28gYXJpYS1sYWJlbD1Hb29nbGU+PC9zcGFuPjwvYT4KICA8cD48Yj41MDAuPC9iPiA8aW5zPlRoYXTigJlzIGFuIGVycm9yLjwvaW5zPgogIDxwPiAgPGlucz5UaGF04oCZcyBhbGwgd2Uga25vdy48L2lucz4K",
              "ok": false,
              "headers": [
                [
                  "content-length",
                  "1461"
                ],
                [
                  "content-type",
                  "text/html; charset=utf-8"
                ]
              ],
              "status": 500,
              "status_text": ""
            }
          },
          "base_uri": "https://localhost:8080/",
          "height": 765
        }
      },
      "source": [
        "from google.colab import files\n",
        "\n",
        "files.download('/content/arqzipado.zip')"
      ],
      "execution_count": 0,
      "outputs": [
        {
          "output_type": "stream",
          "text": [
            "----------------------------------------\n",
            "Exception happened during processing of request from ('::ffff:127.0.0.1', 44728, 0, 0)\n",
            "Traceback (most recent call last):\n",
            "  File \"/usr/lib/python3.6/socketserver.py\", line 320, in _handle_request_noblock\n",
            "    self.process_request(request, client_address)\n",
            "  File \"/usr/lib/python3.6/socketserver.py\", line 351, in process_request\n",
            "    self.finish_request(request, client_address)\n",
            "  File \"/usr/lib/python3.6/socketserver.py\", line 364, in finish_request\n",
            "    self.RequestHandlerClass(request, client_address, self)\n",
            "  File \"/usr/lib/python3.6/socketserver.py\", line 724, in __init__\n",
            "    self.handle()\n",
            "  File \"/usr/lib/python3.6/http/server.py\", line 418, in handle\n",
            "    self.handle_one_request()\n",
            "  File \"/usr/lib/python3.6/http/server.py\", line 406, in handle_one_request\n",
            "    method()\n",
            "  File \"/usr/lib/python3.6/http/server.py\", line 639, in do_GET\n",
            "    self.copyfile(f, self.wfile)\n",
            "  File \"/usr/lib/python3.6/http/server.py\", line 800, in copyfile\n",
            "    shutil.copyfileobj(source, outputfile)\n",
            "  File \"/usr/lib/python3.6/shutil.py\", line 82, in copyfileobj\n",
            "    fdst.write(buf)\n",
            "  File \"/usr/lib/python3.6/socketserver.py\", line 803, in write\n",
            "    self._sock.sendall(b)\n",
            "ConnectionResetError: [Errno 104] Connection reset by peer\n",
            "----------------------------------------\n"
          ],
          "name": "stderr"
        },
        {
          "output_type": "error",
          "ename": "KeyboardInterrupt",
          "evalue": "ignored",
          "traceback": [
            "\u001b[0;31m---------------------------------------------------------------------------\u001b[0m",
            "\u001b[0;31mKeyboardInterrupt\u001b[0m                         Traceback (most recent call last)",
            "\u001b[0;32m<ipython-input-32-ebdb1d902b35>\u001b[0m in \u001b[0;36m<module>\u001b[0;34m()\u001b[0m\n\u001b[1;32m      1\u001b[0m \u001b[0;32mfrom\u001b[0m \u001b[0mgoogle\u001b[0m\u001b[0;34m.\u001b[0m\u001b[0mcolab\u001b[0m \u001b[0;32mimport\u001b[0m \u001b[0mfiles\u001b[0m\u001b[0;34m\u001b[0m\u001b[0;34m\u001b[0m\u001b[0m\n\u001b[1;32m      2\u001b[0m \u001b[0;34m\u001b[0m\u001b[0m\n\u001b[0;32m----> 3\u001b[0;31m \u001b[0mfiles\u001b[0m\u001b[0;34m.\u001b[0m\u001b[0mdownload\u001b[0m\u001b[0;34m(\u001b[0m\u001b[0;34m'/content/arqzipado.zip'\u001b[0m\u001b[0;34m)\u001b[0m\u001b[0;34m\u001b[0m\u001b[0;34m\u001b[0m\u001b[0m\n\u001b[0m",
            "\u001b[0;32m/usr/local/lib/python3.6/dist-packages/google/colab/files.py\u001b[0m in \u001b[0;36mdownload\u001b[0;34m(filename)\u001b[0m\n\u001b[1;32m    176\u001b[0m       \u001b[0;34m'port'\u001b[0m\u001b[0;34m:\u001b[0m \u001b[0mport\u001b[0m\u001b[0;34m,\u001b[0m\u001b[0;34m\u001b[0m\u001b[0;34m\u001b[0m\u001b[0m\n\u001b[1;32m    177\u001b[0m       \u001b[0;34m'path'\u001b[0m\u001b[0;34m:\u001b[0m \u001b[0m_os\u001b[0m\u001b[0;34m.\u001b[0m\u001b[0mpath\u001b[0m\u001b[0;34m.\u001b[0m\u001b[0mabspath\u001b[0m\u001b[0;34m(\u001b[0m\u001b[0mfilename\u001b[0m\u001b[0;34m)\u001b[0m\u001b[0;34m,\u001b[0m\u001b[0;34m\u001b[0m\u001b[0;34m\u001b[0m\u001b[0m\n\u001b[0;32m--> 178\u001b[0;31m       \u001b[0;34m'name'\u001b[0m\u001b[0;34m:\u001b[0m \u001b[0m_os\u001b[0m\u001b[0;34m.\u001b[0m\u001b[0mpath\u001b[0m\u001b[0;34m.\u001b[0m\u001b[0mbasename\u001b[0m\u001b[0;34m(\u001b[0m\u001b[0mfilename\u001b[0m\u001b[0;34m)\u001b[0m\u001b[0;34m,\u001b[0m\u001b[0;34m\u001b[0m\u001b[0;34m\u001b[0m\u001b[0m\n\u001b[0m\u001b[1;32m    179\u001b[0m   })\n",
            "\u001b[0;32m/usr/local/lib/python3.6/dist-packages/google/colab/output/_js.py\u001b[0m in \u001b[0;36meval_js\u001b[0;34m(script, ignore_result)\u001b[0m\n\u001b[1;32m     37\u001b[0m   \u001b[0;32mif\u001b[0m \u001b[0mignore_result\u001b[0m\u001b[0;34m:\u001b[0m\u001b[0;34m\u001b[0m\u001b[0;34m\u001b[0m\u001b[0m\n\u001b[1;32m     38\u001b[0m     \u001b[0;32mreturn\u001b[0m\u001b[0;34m\u001b[0m\u001b[0;34m\u001b[0m\u001b[0m\n\u001b[0;32m---> 39\u001b[0;31m   \u001b[0;32mreturn\u001b[0m \u001b[0m_message\u001b[0m\u001b[0;34m.\u001b[0m\u001b[0mread_reply_from_input\u001b[0m\u001b[0;34m(\u001b[0m\u001b[0mrequest_id\u001b[0m\u001b[0;34m)\u001b[0m\u001b[0;34m\u001b[0m\u001b[0;34m\u001b[0m\u001b[0m\n\u001b[0m\u001b[1;32m     40\u001b[0m \u001b[0;34m\u001b[0m\u001b[0m\n\u001b[1;32m     41\u001b[0m \u001b[0;34m\u001b[0m\u001b[0m\n",
            "\u001b[0;32m/usr/local/lib/python3.6/dist-packages/google/colab/_message.py\u001b[0m in \u001b[0;36mread_reply_from_input\u001b[0;34m(message_id, timeout_sec)\u001b[0m\n\u001b[1;32m     99\u001b[0m     \u001b[0mreply\u001b[0m \u001b[0;34m=\u001b[0m \u001b[0m_read_next_input_message\u001b[0m\u001b[0;34m(\u001b[0m\u001b[0;34m)\u001b[0m\u001b[0;34m\u001b[0m\u001b[0;34m\u001b[0m\u001b[0m\n\u001b[1;32m    100\u001b[0m     \u001b[0;32mif\u001b[0m \u001b[0mreply\u001b[0m \u001b[0;34m==\u001b[0m \u001b[0m_NOT_READY\u001b[0m \u001b[0;32mor\u001b[0m \u001b[0;32mnot\u001b[0m \u001b[0misinstance\u001b[0m\u001b[0;34m(\u001b[0m\u001b[0mreply\u001b[0m\u001b[0;34m,\u001b[0m \u001b[0mdict\u001b[0m\u001b[0;34m)\u001b[0m\u001b[0;34m:\u001b[0m\u001b[0;34m\u001b[0m\u001b[0;34m\u001b[0m\u001b[0m\n\u001b[0;32m--> 101\u001b[0;31m       \u001b[0mtime\u001b[0m\u001b[0;34m.\u001b[0m\u001b[0msleep\u001b[0m\u001b[0;34m(\u001b[0m\u001b[0;36m0.025\u001b[0m\u001b[0;34m)\u001b[0m\u001b[0;34m\u001b[0m\u001b[0;34m\u001b[0m\u001b[0m\n\u001b[0m\u001b[1;32m    102\u001b[0m       \u001b[0;32mcontinue\u001b[0m\u001b[0;34m\u001b[0m\u001b[0;34m\u001b[0m\u001b[0m\n\u001b[1;32m    103\u001b[0m     if (reply.get('type') == 'colab_reply' and\n",
            "\u001b[0;31mKeyboardInterrupt\u001b[0m: "
          ]
        }
      ]
    },
    {
      "cell_type": "code",
      "metadata": {
        "id": "2nfjykb369iD",
        "colab_type": "code",
        "colab": {}
      },
      "source": [
        ""
      ],
      "execution_count": 0,
      "outputs": []
    }
  ]
}